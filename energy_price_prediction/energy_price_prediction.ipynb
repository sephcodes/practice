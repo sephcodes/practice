{
 "cells": [
  {
   "cell_type": "code",
   "execution_count": 1,
   "metadata": {},
   "outputs": [],
   "source": [
    "import numpy as np\n",
    "import pandas as pd\n",
    "import matplotlib as plt\n",
    "import seaborn as sns\n",
    "# import sklearn\n",
    "\n",
    "import os"
   ]
  },
  {
   "cell_type": "code",
   "execution_count": 2,
   "metadata": {},
   "outputs": [
    {
     "data": {
      "text/html": [
       "<div>\n",
       "<style scoped>\n",
       "    .dataframe tbody tr th:only-of-type {\n",
       "        vertical-align: middle;\n",
       "    }\n",
       "\n",
       "    .dataframe tbody tr th {\n",
       "        vertical-align: top;\n",
       "    }\n",
       "\n",
       "    .dataframe thead th {\n",
       "        text-align: right;\n",
       "    }\n",
       "</style>\n",
       "<table border=\"1\" class=\"dataframe\">\n",
       "  <thead>\n",
       "    <tr style=\"text-align: right;\">\n",
       "      <th></th>\n",
       "      <th>value</th>\n",
       "      <th>datetime</th>\n",
       "      <th>tz_time</th>\n",
       "      <th>geo_id</th>\n",
       "      <th>geo_name</th>\n",
       "    </tr>\n",
       "    <tr>\n",
       "      <th>datetime_utc</th>\n",
       "      <th></th>\n",
       "      <th></th>\n",
       "      <th></th>\n",
       "      <th></th>\n",
       "      <th></th>\n",
       "    </tr>\n",
       "  </thead>\n",
       "  <tbody>\n",
       "    <tr>\n",
       "      <th>2021-12-31 23:00:00+00:00</th>\n",
       "      <td>20955.3</td>\n",
       "      <td>2022-01-01T00:00:00.000+01:00</td>\n",
       "      <td>2021-12-31T23:00:00.000Z</td>\n",
       "      <td>8741</td>\n",
       "      <td>Península</td>\n",
       "    </tr>\n",
       "    <tr>\n",
       "      <th>2022-01-01 00:00:00+00:00</th>\n",
       "      <td>20165.8</td>\n",
       "      <td>2022-01-01T01:00:00.000+01:00</td>\n",
       "      <td>2022-01-01T00:00:00.000Z</td>\n",
       "      <td>8741</td>\n",
       "      <td>Península</td>\n",
       "    </tr>\n",
       "    <tr>\n",
       "      <th>2022-01-01 01:00:00+00:00</th>\n",
       "      <td>18812.4</td>\n",
       "      <td>2022-01-01T02:00:00.000+01:00</td>\n",
       "      <td>2022-01-01T01:00:00.000Z</td>\n",
       "      <td>8741</td>\n",
       "      <td>Península</td>\n",
       "    </tr>\n",
       "    <tr>\n",
       "      <th>2022-01-01 02:00:00+00:00</th>\n",
       "      <td>17646.4</td>\n",
       "      <td>2022-01-01T03:00:00.000+01:00</td>\n",
       "      <td>2022-01-01T02:00:00.000Z</td>\n",
       "      <td>8741</td>\n",
       "      <td>Península</td>\n",
       "    </tr>\n",
       "    <tr>\n",
       "      <th>2022-01-01 03:00:00+00:00</th>\n",
       "      <td>17018.1</td>\n",
       "      <td>2022-01-01T04:00:00.000+01:00</td>\n",
       "      <td>2022-01-01T03:00:00.000Z</td>\n",
       "      <td>8741</td>\n",
       "      <td>Península</td>\n",
       "    </tr>\n",
       "  </tbody>\n",
       "</table>\n",
       "</div>"
      ],
      "text/plain": [
       "                             value                       datetime  \\\n",
       "datetime_utc                                                        \n",
       "2021-12-31 23:00:00+00:00  20955.3  2022-01-01T00:00:00.000+01:00   \n",
       "2022-01-01 00:00:00+00:00  20165.8  2022-01-01T01:00:00.000+01:00   \n",
       "2022-01-01 01:00:00+00:00  18812.4  2022-01-01T02:00:00.000+01:00   \n",
       "2022-01-01 02:00:00+00:00  17646.4  2022-01-01T03:00:00.000+01:00   \n",
       "2022-01-01 03:00:00+00:00  17018.1  2022-01-01T04:00:00.000+01:00   \n",
       "\n",
       "                                            tz_time  geo_id   geo_name  \n",
       "datetime_utc                                                            \n",
       "2021-12-31 23:00:00+00:00  2021-12-31T23:00:00.000Z    8741  Península  \n",
       "2022-01-01 00:00:00+00:00  2022-01-01T00:00:00.000Z    8741  Península  \n",
       "2022-01-01 01:00:00+00:00  2022-01-01T01:00:00.000Z    8741  Península  \n",
       "2022-01-01 02:00:00+00:00  2022-01-01T02:00:00.000Z    8741  Península  \n",
       "2022-01-01 03:00:00+00:00  2022-01-01T03:00:00.000Z    8741  Península  "
      ]
     },
     "execution_count": 2,
     "metadata": {},
     "output_type": "execute_result"
    }
   ],
   "source": [
    "demand_total = pd.read_csv('data/demand_total.csv', index_col='datetime_utc')\n",
    "demand_total.index = pd.to_datetime(demand_total.index)\n",
    "demand_total.head()"
   ]
  },
  {
   "cell_type": "code",
   "execution_count": 3,
   "metadata": {},
   "outputs": [
    {
     "data": {
      "text/html": [
       "<div>\n",
       "<style scoped>\n",
       "    .dataframe tbody tr th:only-of-type {\n",
       "        vertical-align: middle;\n",
       "    }\n",
       "\n",
       "    .dataframe tbody tr th {\n",
       "        vertical-align: top;\n",
       "    }\n",
       "\n",
       "    .dataframe thead th {\n",
       "        text-align: right;\n",
       "    }\n",
       "</style>\n",
       "<table border=\"1\" class=\"dataframe\">\n",
       "  <thead>\n",
       "    <tr style=\"text-align: right;\">\n",
       "      <th></th>\n",
       "      <th>value_demand_total</th>\n",
       "      <th>datetime_demand_total</th>\n",
       "      <th>tz_time_demand_total</th>\n",
       "      <th>geo_id_demand_total</th>\n",
       "      <th>geo_name_demand_total</th>\n",
       "    </tr>\n",
       "    <tr>\n",
       "      <th>datetime_utc</th>\n",
       "      <th></th>\n",
       "      <th></th>\n",
       "      <th></th>\n",
       "      <th></th>\n",
       "      <th></th>\n",
       "    </tr>\n",
       "  </thead>\n",
       "  <tbody>\n",
       "    <tr>\n",
       "      <th>2021-12-31 23:00:00+00:00</th>\n",
       "      <td>20955.3</td>\n",
       "      <td>2022-01-01T00:00:00.000+01:00</td>\n",
       "      <td>2021-12-31T23:00:00.000Z</td>\n",
       "      <td>8741</td>\n",
       "      <td>Península</td>\n",
       "    </tr>\n",
       "    <tr>\n",
       "      <th>2022-01-01 00:00:00+00:00</th>\n",
       "      <td>20165.8</td>\n",
       "      <td>2022-01-01T01:00:00.000+01:00</td>\n",
       "      <td>2022-01-01T00:00:00.000Z</td>\n",
       "      <td>8741</td>\n",
       "      <td>Península</td>\n",
       "    </tr>\n",
       "    <tr>\n",
       "      <th>2022-01-01 01:00:00+00:00</th>\n",
       "      <td>18812.4</td>\n",
       "      <td>2022-01-01T02:00:00.000+01:00</td>\n",
       "      <td>2022-01-01T01:00:00.000Z</td>\n",
       "      <td>8741</td>\n",
       "      <td>Península</td>\n",
       "    </tr>\n",
       "    <tr>\n",
       "      <th>2022-01-01 02:00:00+00:00</th>\n",
       "      <td>17646.4</td>\n",
       "      <td>2022-01-01T03:00:00.000+01:00</td>\n",
       "      <td>2022-01-01T02:00:00.000Z</td>\n",
       "      <td>8741</td>\n",
       "      <td>Península</td>\n",
       "    </tr>\n",
       "    <tr>\n",
       "      <th>2022-01-01 03:00:00+00:00</th>\n",
       "      <td>17018.1</td>\n",
       "      <td>2022-01-01T04:00:00.000+01:00</td>\n",
       "      <td>2022-01-01T03:00:00.000Z</td>\n",
       "      <td>8741</td>\n",
       "      <td>Península</td>\n",
       "    </tr>\n",
       "    <tr>\n",
       "      <th>...</th>\n",
       "      <td>...</td>\n",
       "      <td>...</td>\n",
       "      <td>...</td>\n",
       "      <td>...</td>\n",
       "      <td>...</td>\n",
       "    </tr>\n",
       "    <tr>\n",
       "      <th>2023-08-30 18:00:00+00:00</th>\n",
       "      <td>27748.0</td>\n",
       "      <td>2023-08-30T20:00:00.000+02:00</td>\n",
       "      <td>2023-08-30T18:00:00.000Z</td>\n",
       "      <td>8741</td>\n",
       "      <td>Península</td>\n",
       "    </tr>\n",
       "    <tr>\n",
       "      <th>2023-08-30 19:00:00+00:00</th>\n",
       "      <td>28143.0</td>\n",
       "      <td>2023-08-30T21:00:00.000+02:00</td>\n",
       "      <td>2023-08-30T19:00:00.000Z</td>\n",
       "      <td>8741</td>\n",
       "      <td>Península</td>\n",
       "    </tr>\n",
       "    <tr>\n",
       "      <th>2023-08-30 20:00:00+00:00</th>\n",
       "      <td>26787.3</td>\n",
       "      <td>2023-08-30T22:00:00.000+02:00</td>\n",
       "      <td>2023-08-30T20:00:00.000Z</td>\n",
       "      <td>8741</td>\n",
       "      <td>Península</td>\n",
       "    </tr>\n",
       "    <tr>\n",
       "      <th>2023-08-30 21:00:00+00:00</th>\n",
       "      <td>24776.2</td>\n",
       "      <td>2023-08-30T23:00:00.000+02:00</td>\n",
       "      <td>2023-08-30T21:00:00.000Z</td>\n",
       "      <td>8741</td>\n",
       "      <td>Península</td>\n",
       "    </tr>\n",
       "    <tr>\n",
       "      <th>2023-08-30 22:00:00+00:00</th>\n",
       "      <td>24093.6</td>\n",
       "      <td>2023-08-31T00:00:00.000+02:00</td>\n",
       "      <td>2023-08-30T22:00:00.000Z</td>\n",
       "      <td>8741</td>\n",
       "      <td>Península</td>\n",
       "    </tr>\n",
       "  </tbody>\n",
       "</table>\n",
       "<p>14568 rows × 5 columns</p>\n",
       "</div>"
      ],
      "text/plain": [
       "                           value_demand_total          datetime_demand_total  \\\n",
       "datetime_utc                                                                   \n",
       "2021-12-31 23:00:00+00:00             20955.3  2022-01-01T00:00:00.000+01:00   \n",
       "2022-01-01 00:00:00+00:00             20165.8  2022-01-01T01:00:00.000+01:00   \n",
       "2022-01-01 01:00:00+00:00             18812.4  2022-01-01T02:00:00.000+01:00   \n",
       "2022-01-01 02:00:00+00:00             17646.4  2022-01-01T03:00:00.000+01:00   \n",
       "2022-01-01 03:00:00+00:00             17018.1  2022-01-01T04:00:00.000+01:00   \n",
       "...                                       ...                            ...   \n",
       "2023-08-30 18:00:00+00:00             27748.0  2023-08-30T20:00:00.000+02:00   \n",
       "2023-08-30 19:00:00+00:00             28143.0  2023-08-30T21:00:00.000+02:00   \n",
       "2023-08-30 20:00:00+00:00             26787.3  2023-08-30T22:00:00.000+02:00   \n",
       "2023-08-30 21:00:00+00:00             24776.2  2023-08-30T23:00:00.000+02:00   \n",
       "2023-08-30 22:00:00+00:00             24093.6  2023-08-31T00:00:00.000+02:00   \n",
       "\n",
       "                               tz_time_demand_total  geo_id_demand_total  \\\n",
       "datetime_utc                                                               \n",
       "2021-12-31 23:00:00+00:00  2021-12-31T23:00:00.000Z                 8741   \n",
       "2022-01-01 00:00:00+00:00  2022-01-01T00:00:00.000Z                 8741   \n",
       "2022-01-01 01:00:00+00:00  2022-01-01T01:00:00.000Z                 8741   \n",
       "2022-01-01 02:00:00+00:00  2022-01-01T02:00:00.000Z                 8741   \n",
       "2022-01-01 03:00:00+00:00  2022-01-01T03:00:00.000Z                 8741   \n",
       "...                                             ...                  ...   \n",
       "2023-08-30 18:00:00+00:00  2023-08-30T18:00:00.000Z                 8741   \n",
       "2023-08-30 19:00:00+00:00  2023-08-30T19:00:00.000Z                 8741   \n",
       "2023-08-30 20:00:00+00:00  2023-08-30T20:00:00.000Z                 8741   \n",
       "2023-08-30 21:00:00+00:00  2023-08-30T21:00:00.000Z                 8741   \n",
       "2023-08-30 22:00:00+00:00  2023-08-30T22:00:00.000Z                 8741   \n",
       "\n",
       "                          geo_name_demand_total  \n",
       "datetime_utc                                     \n",
       "2021-12-31 23:00:00+00:00             Península  \n",
       "2022-01-01 00:00:00+00:00             Península  \n",
       "2022-01-01 01:00:00+00:00             Península  \n",
       "2022-01-01 02:00:00+00:00             Península  \n",
       "2022-01-01 03:00:00+00:00             Península  \n",
       "...                                         ...  \n",
       "2023-08-30 18:00:00+00:00             Península  \n",
       "2023-08-30 19:00:00+00:00             Península  \n",
       "2023-08-30 20:00:00+00:00             Península  \n",
       "2023-08-30 21:00:00+00:00             Península  \n",
       "2023-08-30 22:00:00+00:00             Península  \n",
       "\n",
       "[14568 rows x 5 columns]"
      ]
     },
     "execution_count": 3,
     "metadata": {},
     "output_type": "execute_result"
    }
   ],
   "source": [
    "root = 'data'\n",
    "\n",
    "df_dict = {}\n",
    "\n",
    "for fn in os.listdir(root):\n",
    "    name = os.path.splitext(fn)[0]\n",
    "    df_dict[name] = pd.read_csv(os.path.join(root, fn), index_col='datetime_utc')\n",
    "    df_dict[name].index = pd.to_datetime(df_dict[name].index)\n",
    "    if(name in ['demand_total','gen_ccgt','gen_coal','gen_coal','gen_hydro','gen_nuclear','gen_solar_pv','gen_solar_th','gen_total','gen_wind']):\n",
    "        df_dict[name].columns = df_dict[name].columns + '_' + name\n",
    "\n",
    "df_dict['demand_total']"
   ]
  },
  {
   "cell_type": "code",
   "execution_count": 4,
   "metadata": {},
   "outputs": [],
   "source": [
    "for value in df_dict:\n",
    "    if(value in ['demand_total','gen_ccgt','gen_coal','gen_coal','gen_hydro','gen_nuclear','gen_solar_pv','gen_solar_th','gen_total','gen_wind']):\n",
    "        df_dict[value] = df_dict[value].drop(columns=list(df_dict[value].columns[1:]))\n",
    "    else:\n",
    "        df_dict[value] = df_dict[value].drop(columns=list(df_dict[value].columns[1:3]))"
   ]
  },
  {
   "cell_type": "code",
   "execution_count": 5,
   "metadata": {},
   "outputs": [
    {
     "name": "stdout",
     "output_type": "stream",
     "text": [
      "<class 'pandas.core.frame.DataFrame'>\n",
      "DatetimeIndex: 14568 entries, 2021-12-31 23:00:00+00:00 to 2023-08-30 22:00:00+00:00\n",
      "Data columns (total 1 columns):\n",
      " #   Column              Non-Null Count  Dtype  \n",
      "---  ------              --------------  -----  \n",
      " 0   value_demand_total  14568 non-null  float64\n",
      "dtypes: float64(1)\n",
      "memory usage: 227.6 KB\n"
     ]
    }
   ],
   "source": [
    "df_dict['demand_total'].info()"
   ]
  },
  {
   "cell_type": "code",
   "execution_count": 6,
   "metadata": {},
   "outputs": [
    {
     "data": {
      "text/plain": [
       "DatetimeIndex(['2021-12-31 23:00:00+00:00', '2022-01-01 00:00:00+00:00',\n",
       "               '2022-01-01 01:00:00+00:00', '2022-01-01 02:00:00+00:00',\n",
       "               '2022-01-01 03:00:00+00:00', '2022-01-01 04:00:00+00:00',\n",
       "               '2022-01-01 05:00:00+00:00', '2022-01-01 06:00:00+00:00',\n",
       "               '2022-01-01 07:00:00+00:00', '2022-01-01 08:00:00+00:00',\n",
       "               ...\n",
       "               '2023-08-30 13:00:00+00:00', '2023-08-30 14:00:00+00:00',\n",
       "               '2023-08-30 15:00:00+00:00', '2023-08-30 16:00:00+00:00',\n",
       "               '2023-08-30 17:00:00+00:00', '2023-08-30 18:00:00+00:00',\n",
       "               '2023-08-30 19:00:00+00:00', '2023-08-30 20:00:00+00:00',\n",
       "               '2023-08-30 21:00:00+00:00', '2023-08-30 22:00:00+00:00'],\n",
       "              dtype='datetime64[ns, UTC]', name='datetime_utc', length=14568, freq=None)"
      ]
     },
     "execution_count": 6,
     "metadata": {},
     "output_type": "execute_result"
    }
   ],
   "source": [
    "pd.DatetimeIndex(df_dict['demand_total'].index)"
   ]
  },
  {
   "cell_type": "code",
   "execution_count": 7,
   "metadata": {},
   "outputs": [
    {
     "data": {
      "text/plain": [
       "2022-10-30 00:00:00+00:00    2\n",
       "2021-12-31 23:00:00+00:00    1\n",
       "2023-02-09 07:00:00+00:00    1\n",
       "2023-02-09 09:00:00+00:00    1\n",
       "2023-02-09 10:00:00+00:00    1\n",
       "                            ..\n",
       "2022-07-22 10:00:00+00:00    1\n",
       "2022-07-22 11:00:00+00:00    1\n",
       "2022-07-22 12:00:00+00:00    1\n",
       "2022-07-22 13:00:00+00:00    1\n",
       "2023-08-30 22:00:00+00:00    1\n",
       "Name: datetime_utc, Length: 14567, dtype: int64"
      ]
     },
     "execution_count": 7,
     "metadata": {},
     "output_type": "execute_result"
    }
   ],
   "source": [
    "df_dict['demand_total'].index.value_counts()"
   ]
  },
  {
   "cell_type": "code",
   "execution_count": 8,
   "metadata": {},
   "outputs": [
    {
     "data": {
      "text/html": [
       "<div>\n",
       "<style scoped>\n",
       "    .dataframe tbody tr th:only-of-type {\n",
       "        vertical-align: middle;\n",
       "    }\n",
       "\n",
       "    .dataframe tbody tr th {\n",
       "        vertical-align: top;\n",
       "    }\n",
       "\n",
       "    .dataframe thead th {\n",
       "        text-align: right;\n",
       "    }\n",
       "</style>\n",
       "<table border=\"1\" class=\"dataframe\">\n",
       "  <thead>\n",
       "    <tr style=\"text-align: right;\">\n",
       "      <th></th>\n",
       "      <th>value_demand_total</th>\n",
       "    </tr>\n",
       "    <tr>\n",
       "      <th>datetime_utc</th>\n",
       "      <th></th>\n",
       "    </tr>\n",
       "  </thead>\n",
       "  <tbody>\n",
       "    <tr>\n",
       "      <th>2022-10-30 00:00:00+00:00</th>\n",
       "      <td>18327.3</td>\n",
       "    </tr>\n",
       "    <tr>\n",
       "      <th>2022-10-30 00:00:00+00:00</th>\n",
       "      <td>17581.2</td>\n",
       "    </tr>\n",
       "  </tbody>\n",
       "</table>\n",
       "</div>"
      ],
      "text/plain": [
       "                           value_demand_total\n",
       "datetime_utc                                 \n",
       "2022-10-30 00:00:00+00:00             18327.3\n",
       "2022-10-30 00:00:00+00:00             17581.2"
      ]
     },
     "execution_count": 8,
     "metadata": {},
     "output_type": "execute_result"
    }
   ],
   "source": [
    "df_dict['demand_total'].loc['2022-10-30 00:00:00+00:00']\n",
    "# ??? tell your prof you have duplicate datetime_utc. "
   ]
  },
  {
   "cell_type": "code",
   "execution_count": 9,
   "metadata": {},
   "outputs": [],
   "source": [
    "df_dict['demand_total'] = df_dict['demand_total'][~df_dict['demand_total'].index.duplicated(keep='first')]"
   ]
  },
  {
   "cell_type": "code",
   "execution_count": 10,
   "metadata": {},
   "outputs": [
    {
     "data": {
      "text/plain": [
       "<AxesSubplot:xlabel='month', ylabel='value_demand_total'>"
      ]
     },
     "execution_count": 10,
     "metadata": {},
     "output_type": "execute_result"
    },
    {
     "data": {
      "image/png": "[encoded data removed]",
      "text/plain": [
       "<Figure size 432x288 with 1 Axes>"
      ]
     },
     "metadata": {
      "needs_background": "light"
     },
     "output_type": "display_data"
    }
   ],
   "source": [
    "df_dict['demand_total']['month'] = pd.DatetimeIndex(df_dict['demand_total'].index).month\n",
    "df_dict['demand_total']['year'] = pd.DatetimeIndex(df_dict['demand_total'].index).year\n",
    "\n",
    "sns.lineplot(data = df_dict['demand_total'], x = 'month', y = 'value_demand_total', hue = 'year')"
   ]
  },
  {
   "cell_type": "code",
   "execution_count": 11,
   "metadata": {},
   "outputs": [
    {
     "data": {
      "text/html": [
       "<div>\n",
       "<style scoped>\n",
       "    .dataframe tbody tr th:only-of-type {\n",
       "        vertical-align: middle;\n",
       "    }\n",
       "\n",
       "    .dataframe tbody tr th {\n",
       "        vertical-align: top;\n",
       "    }\n",
       "\n",
       "    .dataframe thead th {\n",
       "        text-align: right;\n",
       "    }\n",
       "</style>\n",
       "<table border=\"1\" class=\"dataframe\">\n",
       "  <thead>\n",
       "    <tr style=\"text-align: right;\">\n",
       "      <th></th>\n",
       "      <th>value_demand_total</th>\n",
       "      <th>month</th>\n",
       "      <th>year</th>\n",
       "    </tr>\n",
       "    <tr>\n",
       "      <th>datetime_utc</th>\n",
       "      <th></th>\n",
       "      <th></th>\n",
       "      <th></th>\n",
       "    </tr>\n",
       "  </thead>\n",
       "  <tbody>\n",
       "  </tbody>\n",
       "</table>\n",
       "</div>"
      ],
      "text/plain": [
       "Empty DataFrame\n",
       "Columns: [value_demand_total, month, year]\n",
       "Index: []"
      ]
     },
     "execution_count": 11,
     "metadata": {},
     "output_type": "execute_result"
    }
   ],
   "source": [
    "df_dict['demand_total'][df_dict['demand_total']['year'] == '2021']"
   ]
  },
  {
   "cell_type": "code",
   "execution_count": 12,
   "metadata": {},
   "outputs": [
    {
     "data": {
      "text/html": [
       "<div>\n",
       "<style scoped>\n",
       "    .dataframe tbody tr th:only-of-type {\n",
       "        vertical-align: middle;\n",
       "    }\n",
       "\n",
       "    .dataframe tbody tr th {\n",
       "        vertical-align: top;\n",
       "    }\n",
       "\n",
       "    .dataframe thead th {\n",
       "        text-align: right;\n",
       "    }\n",
       "</style>\n",
       "<table border=\"1\" class=\"dataframe\">\n",
       "  <thead>\n",
       "    <tr style=\"text-align: right;\">\n",
       "      <th></th>\n",
       "      <th>value_gen_total</th>\n",
       "    </tr>\n",
       "    <tr>\n",
       "      <th>datetime_utc</th>\n",
       "      <th></th>\n",
       "    </tr>\n",
       "  </thead>\n",
       "  <tbody>\n",
       "    <tr>\n",
       "      <th>2021-12-31 23:00:00+00:00</th>\n",
       "      <td>19553.3</td>\n",
       "    </tr>\n",
       "    <tr>\n",
       "      <th>2022-01-01 00:00:00+00:00</th>\n",
       "      <td>19307.5</td>\n",
       "    </tr>\n",
       "    <tr>\n",
       "      <th>2022-01-01 01:00:00+00:00</th>\n",
       "      <td>18964.5</td>\n",
       "    </tr>\n",
       "    <tr>\n",
       "      <th>2022-01-01 02:00:00+00:00</th>\n",
       "      <td>18545.9</td>\n",
       "    </tr>\n",
       "    <tr>\n",
       "      <th>2022-01-01 03:00:00+00:00</th>\n",
       "      <td>18385.3</td>\n",
       "    </tr>\n",
       "  </tbody>\n",
       "</table>\n",
       "</div>"
      ],
      "text/plain": [
       "                           value_gen_total\n",
       "datetime_utc                              \n",
       "2021-12-31 23:00:00+00:00          19553.3\n",
       "2022-01-01 00:00:00+00:00          19307.5\n",
       "2022-01-01 01:00:00+00:00          18964.5\n",
       "2022-01-01 02:00:00+00:00          18545.9\n",
       "2022-01-01 03:00:00+00:00          18385.3"
      ]
     },
     "execution_count": 12,
     "metadata": {},
     "output_type": "execute_result"
    }
   ],
   "source": [
    "df_dict['gen_total'].head()"
   ]
  },
  {
   "cell_type": "code",
   "execution_count": 13,
   "metadata": {},
   "outputs": [
    {
     "data": {
      "text/plain": [
       "2022-10-30 00:00:00+00:00    2\n",
       "2021-12-31 23:00:00+00:00    1\n",
       "2023-02-09 07:00:00+00:00    1\n",
       "2023-02-09 09:00:00+00:00    1\n",
       "2023-02-09 10:00:00+00:00    1\n",
       "                            ..\n",
       "2022-07-22 10:00:00+00:00    1\n",
       "2022-07-22 11:00:00+00:00    1\n",
       "2022-07-22 12:00:00+00:00    1\n",
       "2022-07-22 13:00:00+00:00    1\n",
       "2023-08-30 22:00:00+00:00    1\n",
       "Name: datetime_utc, Length: 14567, dtype: int64"
      ]
     },
     "execution_count": 13,
     "metadata": {},
     "output_type": "execute_result"
    }
   ],
   "source": [
    "df_dict['gen_total'].index.value_counts()"
   ]
  },
  {
   "cell_type": "code",
   "execution_count": 14,
   "metadata": {},
   "outputs": [],
   "source": [
    "df_dict['gen_total'] = df_dict['gen_total'][~df_dict['gen_total'].index.duplicated(keep='first')]"
   ]
  },
  {
   "cell_type": "code",
   "execution_count": 15,
   "metadata": {},
   "outputs": [
    {
     "data": {
      "text/plain": [
       "<AxesSubplot:xlabel='month', ylabel='value_gen_total'>"
      ]
     },
     "execution_count": 15,
     "metadata": {},
     "output_type": "execute_result"
    },
    {
     "data": {
      "image/png": "[encoded data removed]",
      "text/plain": [
       "<Figure size 432x288 with 1 Axes>"
      ]
     },
     "metadata": {
      "needs_background": "light"
     },
     "output_type": "display_data"
    }
   ],
   "source": [
    "df_dict['gen_total']['month'] = pd.DatetimeIndex(df_dict['gen_total'].index).month\n",
    "df_dict['gen_total']['year'] = pd.DatetimeIndex(df_dict['gen_total'].index).year\n",
    "\n",
    "sns.lineplot(data = df_dict['gen_total'], x = 'month', y = 'value_gen_total', hue = 'year')"
   ]
  },
  {
   "cell_type": "code",
   "execution_count": 16,
   "metadata": {},
   "outputs": [
    {
     "data": {
      "text/html": [
       "<div>\n",
       "<style scoped>\n",
       "    .dataframe tbody tr th:only-of-type {\n",
       "        vertical-align: middle;\n",
       "    }\n",
       "\n",
       "    .dataframe tbody tr th {\n",
       "        vertical-align: top;\n",
       "    }\n",
       "\n",
       "    .dataframe thead th {\n",
       "        text-align: right;\n",
       "    }\n",
       "</style>\n",
       "<table border=\"1\" class=\"dataframe\">\n",
       "  <thead>\n",
       "    <tr style=\"text-align: right;\">\n",
       "      <th></th>\n",
       "      <th>datetime_utc</th>\n",
       "      <th>value_demand_total</th>\n",
       "      <th>month</th>\n",
       "      <th>year</th>\n",
       "      <th>value_gen_solar_th</th>\n",
       "      <th>value_gen_ccgt</th>\n",
       "      <th>value_gen_coal</th>\n",
       "    </tr>\n",
       "  </thead>\n",
       "  <tbody>\n",
       "    <tr>\n",
       "      <th>0</th>\n",
       "      <td>2021-12-31 23:00:00+00:00</td>\n",
       "      <td>20955.3</td>\n",
       "      <td>12</td>\n",
       "      <td>2021</td>\n",
       "      <td>10.0</td>\n",
       "      <td>NaN</td>\n",
       "      <td>900.5</td>\n",
       "    </tr>\n",
       "    <tr>\n",
       "      <th>1</th>\n",
       "      <td>2022-01-01 00:00:00+00:00</td>\n",
       "      <td>20165.8</td>\n",
       "      <td>1</td>\n",
       "      <td>2022</td>\n",
       "      <td>10.0</td>\n",
       "      <td>NaN</td>\n",
       "      <td>852.5</td>\n",
       "    </tr>\n",
       "    <tr>\n",
       "      <th>2</th>\n",
       "      <td>2022-01-01 01:00:00+00:00</td>\n",
       "      <td>18812.4</td>\n",
       "      <td>1</td>\n",
       "      <td>2022</td>\n",
       "      <td>10.0</td>\n",
       "      <td>NaN</td>\n",
       "      <td>851.5</td>\n",
       "    </tr>\n",
       "    <tr>\n",
       "      <th>3</th>\n",
       "      <td>2022-01-01 02:00:00+00:00</td>\n",
       "      <td>17646.4</td>\n",
       "      <td>1</td>\n",
       "      <td>2022</td>\n",
       "      <td>10.0</td>\n",
       "      <td>NaN</td>\n",
       "      <td>851.5</td>\n",
       "    </tr>\n",
       "    <tr>\n",
       "      <th>4</th>\n",
       "      <td>2022-01-01 03:00:00+00:00</td>\n",
       "      <td>17018.1</td>\n",
       "      <td>1</td>\n",
       "      <td>2022</td>\n",
       "      <td>10.0</td>\n",
       "      <td>NaN</td>\n",
       "      <td>851.5</td>\n",
       "    </tr>\n",
       "  </tbody>\n",
       "</table>\n",
       "</div>"
      ],
      "text/plain": [
       "               datetime_utc  value_demand_total  month  year  \\\n",
       "0 2021-12-31 23:00:00+00:00             20955.3     12  2021   \n",
       "1 2022-01-01 00:00:00+00:00             20165.8      1  2022   \n",
       "2 2022-01-01 01:00:00+00:00             18812.4      1  2022   \n",
       "3 2022-01-01 02:00:00+00:00             17646.4      1  2022   \n",
       "4 2022-01-01 03:00:00+00:00             17018.1      1  2022   \n",
       "\n",
       "   value_gen_solar_th  value_gen_ccgt  value_gen_coal  \n",
       "0                10.0             NaN           900.5  \n",
       "1                10.0             NaN           852.5  \n",
       "2                10.0             NaN           851.5  \n",
       "3                10.0             NaN           851.5  \n",
       "4                10.0             NaN           851.5  "
      ]
     },
     "execution_count": 16,
     "metadata": {},
     "output_type": "execute_result"
    }
   ],
   "source": [
    "df = pd.DataFrame(columns=['datetime_utc'])\n",
    "df['datetime_utc'] = pd.to_datetime(df['datetime_utc'])\n",
    "for value in ['demand_total','gen_solar_th','gen_ccgt','gen_coal']:\n",
    "    df = pd.merge(df, df_dict[value], on='datetime_utc', how='outer', suffixes=['demand_total','gen_solar_th'])\n",
    "\n",
    "df.head()"
   ]
  },
  {
   "cell_type": "code",
   "execution_count": 17,
   "metadata": {},
   "outputs": [
    {
     "data": {
      "text/html": [
       "<div>\n",
       "<style scoped>\n",
       "    .dataframe tbody tr th:only-of-type {\n",
       "        vertical-align: middle;\n",
       "    }\n",
       "\n",
       "    .dataframe tbody tr th {\n",
       "        vertical-align: top;\n",
       "    }\n",
       "\n",
       "    .dataframe thead th {\n",
       "        text-align: right;\n",
       "    }\n",
       "</style>\n",
       "<table border=\"1\" class=\"dataframe\">\n",
       "  <thead>\n",
       "    <tr style=\"text-align: right;\">\n",
       "      <th></th>\n",
       "      <th>value</th>\n",
       "      <th>geo_id</th>\n",
       "      <th>geo_name</th>\n",
       "    </tr>\n",
       "    <tr>\n",
       "      <th>datetime_utc</th>\n",
       "      <th></th>\n",
       "      <th></th>\n",
       "      <th></th>\n",
       "    </tr>\n",
       "  </thead>\n",
       "  <tbody>\n",
       "    <tr>\n",
       "      <th>2021-12-31 23:00:00+00:00</th>\n",
       "      <td>145.86</td>\n",
       "      <td>1</td>\n",
       "      <td>Portugal</td>\n",
       "    </tr>\n",
       "    <tr>\n",
       "      <th>2021-12-31 23:00:00+00:00</th>\n",
       "      <td>89.06</td>\n",
       "      <td>2</td>\n",
       "      <td>Francia</td>\n",
       "    </tr>\n",
       "    <tr>\n",
       "      <th>2021-12-31 23:00:00+00:00</th>\n",
       "      <td>145.86</td>\n",
       "      <td>3</td>\n",
       "      <td>España</td>\n",
       "    </tr>\n",
       "    <tr>\n",
       "      <th>2021-12-31 23:00:00+00:00</th>\n",
       "      <td>138.19</td>\n",
       "      <td>8824</td>\n",
       "      <td>Reino Unido</td>\n",
       "    </tr>\n",
       "    <tr>\n",
       "      <th>2021-12-31 23:00:00+00:00</th>\n",
       "      <td>170.28</td>\n",
       "      <td>8825</td>\n",
       "      <td>Italia</td>\n",
       "    </tr>\n",
       "  </tbody>\n",
       "</table>\n",
       "</div>"
      ],
      "text/plain": [
       "                            value  geo_id     geo_name\n",
       "datetime_utc                                          \n",
       "2021-12-31 23:00:00+00:00  145.86       1     Portugal\n",
       "2021-12-31 23:00:00+00:00   89.06       2      Francia\n",
       "2021-12-31 23:00:00+00:00  145.86       3       España\n",
       "2021-12-31 23:00:00+00:00  138.19    8824  Reino Unido\n",
       "2021-12-31 23:00:00+00:00  170.28    8825       Italia"
      ]
     },
     "execution_count": 17,
     "metadata": {},
     "output_type": "execute_result"
    }
   ],
   "source": [
    "df_dict['spot_price_2022-01-01'].head()"
   ]
  },
  {
   "cell_type": "code",
   "execution_count": 18,
   "metadata": {},
   "outputs": [
    {
     "data": {
      "text/html": [
       "<div>\n",
       "<style scoped>\n",
       "    .dataframe tbody tr th:only-of-type {\n",
       "        vertical-align: middle;\n",
       "    }\n",
       "\n",
       "    .dataframe tbody tr th {\n",
       "        vertical-align: top;\n",
       "    }\n",
       "\n",
       "    .dataframe thead th {\n",
       "        text-align: right;\n",
       "    }\n",
       "</style>\n",
       "<table border=\"1\" class=\"dataframe\">\n",
       "  <thead>\n",
       "    <tr style=\"text-align: right;\">\n",
       "      <th></th>\n",
       "      <th>value</th>\n",
       "      <th>geo_id</th>\n",
       "      <th>geo_name</th>\n",
       "    </tr>\n",
       "    <tr>\n",
       "      <th>datetime_utc</th>\n",
       "      <th></th>\n",
       "      <th></th>\n",
       "      <th></th>\n",
       "    </tr>\n",
       "  </thead>\n",
       "  <tbody>\n",
       "    <tr>\n",
       "      <th>2021-12-31 23:00:00+00:00</th>\n",
       "      <td>145.86</td>\n",
       "      <td>3</td>\n",
       "      <td>España</td>\n",
       "    </tr>\n",
       "    <tr>\n",
       "      <th>2022-01-01 00:00:00+00:00</th>\n",
       "      <td>114.90</td>\n",
       "      <td>3</td>\n",
       "      <td>España</td>\n",
       "    </tr>\n",
       "    <tr>\n",
       "      <th>2022-01-01 01:00:00+00:00</th>\n",
       "      <td>113.87</td>\n",
       "      <td>3</td>\n",
       "      <td>España</td>\n",
       "    </tr>\n",
       "    <tr>\n",
       "      <th>2022-01-01 02:00:00+00:00</th>\n",
       "      <td>97.80</td>\n",
       "      <td>3</td>\n",
       "      <td>España</td>\n",
       "    </tr>\n",
       "    <tr>\n",
       "      <th>2022-01-01 03:00:00+00:00</th>\n",
       "      <td>97.80</td>\n",
       "      <td>3</td>\n",
       "      <td>España</td>\n",
       "    </tr>\n",
       "    <tr>\n",
       "      <th>...</th>\n",
       "      <td>...</td>\n",
       "      <td>...</td>\n",
       "      <td>...</td>\n",
       "    </tr>\n",
       "    <tr>\n",
       "      <th>2022-01-30 19:00:00+00:00</th>\n",
       "      <td>268.65</td>\n",
       "      <td>3</td>\n",
       "      <td>España</td>\n",
       "    </tr>\n",
       "    <tr>\n",
       "      <th>2022-01-30 20:00:00+00:00</th>\n",
       "      <td>266.01</td>\n",
       "      <td>3</td>\n",
       "      <td>España</td>\n",
       "    </tr>\n",
       "    <tr>\n",
       "      <th>2022-01-30 21:00:00+00:00</th>\n",
       "      <td>257.55</td>\n",
       "      <td>3</td>\n",
       "      <td>España</td>\n",
       "    </tr>\n",
       "    <tr>\n",
       "      <th>2022-01-30 22:00:00+00:00</th>\n",
       "      <td>250.94</td>\n",
       "      <td>3</td>\n",
       "      <td>España</td>\n",
       "    </tr>\n",
       "    <tr>\n",
       "      <th>2022-01-30 23:00:00+00:00</th>\n",
       "      <td>242.36</td>\n",
       "      <td>3</td>\n",
       "      <td>España</td>\n",
       "    </tr>\n",
       "  </tbody>\n",
       "</table>\n",
       "<p>721 rows × 3 columns</p>\n",
       "</div>"
      ],
      "text/plain": [
       "                            value  geo_id geo_name\n",
       "datetime_utc                                      \n",
       "2021-12-31 23:00:00+00:00  145.86       3   España\n",
       "2022-01-01 00:00:00+00:00  114.90       3   España\n",
       "2022-01-01 01:00:00+00:00  113.87       3   España\n",
       "2022-01-01 02:00:00+00:00   97.80       3   España\n",
       "2022-01-01 03:00:00+00:00   97.80       3   España\n",
       "...                           ...     ...      ...\n",
       "2022-01-30 19:00:00+00:00  268.65       3   España\n",
       "2022-01-30 20:00:00+00:00  266.01       3   España\n",
       "2022-01-30 21:00:00+00:00  257.55       3   España\n",
       "2022-01-30 22:00:00+00:00  250.94       3   España\n",
       "2022-01-30 23:00:00+00:00  242.36       3   España\n",
       "\n",
       "[721 rows x 3 columns]"
      ]
     },
     "execution_count": 18,
     "metadata": {},
     "output_type": "execute_result"
    }
   ],
   "source": [
    "df_dict['spot_price_2022-01-01'][df_dict['spot_price_2022-01-01']['geo_id'] == 3]"
   ]
  },
  {
   "cell_type": "code",
   "execution_count": 19,
   "metadata": {},
   "outputs": [
    {
     "data": {
      "text/html": [
       "<div>\n",
       "<style scoped>\n",
       "    .dataframe tbody tr th:only-of-type {\n",
       "        vertical-align: middle;\n",
       "    }\n",
       "\n",
       "    .dataframe tbody tr th {\n",
       "        vertical-align: top;\n",
       "    }\n",
       "\n",
       "    .dataframe thead th {\n",
       "        text-align: right;\n",
       "    }\n",
       "</style>\n",
       "<table border=\"1\" class=\"dataframe\">\n",
       "  <thead>\n",
       "    <tr style=\"text-align: right;\">\n",
       "      <th></th>\n",
       "      <th>value</th>\n",
       "      <th>geo_id</th>\n",
       "      <th>geo_name</th>\n",
       "    </tr>\n",
       "    <tr>\n",
       "      <th>datetime_utc</th>\n",
       "      <th></th>\n",
       "      <th></th>\n",
       "      <th></th>\n",
       "    </tr>\n",
       "  </thead>\n",
       "  <tbody>\n",
       "    <tr>\n",
       "      <th>2021-12-31 23:00:00+00:00</th>\n",
       "      <td>145.86</td>\n",
       "      <td>3</td>\n",
       "      <td>España</td>\n",
       "    </tr>\n",
       "    <tr>\n",
       "      <th>2022-01-01 00:00:00+00:00</th>\n",
       "      <td>114.90</td>\n",
       "      <td>3</td>\n",
       "      <td>España</td>\n",
       "    </tr>\n",
       "    <tr>\n",
       "      <th>2022-01-01 01:00:00+00:00</th>\n",
       "      <td>113.87</td>\n",
       "      <td>3</td>\n",
       "      <td>España</td>\n",
       "    </tr>\n",
       "    <tr>\n",
       "      <th>2022-01-01 02:00:00+00:00</th>\n",
       "      <td>97.80</td>\n",
       "      <td>3</td>\n",
       "      <td>España</td>\n",
       "    </tr>\n",
       "    <tr>\n",
       "      <th>2022-01-01 03:00:00+00:00</th>\n",
       "      <td>97.80</td>\n",
       "      <td>3</td>\n",
       "      <td>España</td>\n",
       "    </tr>\n",
       "  </tbody>\n",
       "</table>\n",
       "</div>"
      ],
      "text/plain": [
       "                            value  geo_id geo_name\n",
       "datetime_utc                                      \n",
       "2021-12-31 23:00:00+00:00  145.86       3   España\n",
       "2022-01-01 00:00:00+00:00  114.90       3   España\n",
       "2022-01-01 01:00:00+00:00  113.87       3   España\n",
       "2022-01-01 02:00:00+00:00   97.80       3   España\n",
       "2022-01-01 03:00:00+00:00   97.80       3   España"
      ]
     },
     "execution_count": 19,
     "metadata": {},
     "output_type": "execute_result"
    }
   ],
   "source": [
    "for value in df_dict:\n",
    "    if value not in ['demand_total','gen_ccgt','gen_coal','gen_coal','gen_hydro','gen_nuclear','gen_solar_pv','gen_solar_th','gen_total','gen_wind']:\n",
    "        df_dict[value] = df_dict[value][df_dict[value]['geo_id'] == 3]\n",
    "\n",
    "df_dict['spot_price_2022-01-01'].head()"
   ]
  },
  {
   "cell_type": "code",
   "execution_count": 20,
   "metadata": {},
   "outputs": [
    {
     "data": {
      "text/html": [
       "<div>\n",
       "<style scoped>\n",
       "    .dataframe tbody tr th:only-of-type {\n",
       "        vertical-align: middle;\n",
       "    }\n",
       "\n",
       "    .dataframe tbody tr th {\n",
       "        vertical-align: top;\n",
       "    }\n",
       "\n",
       "    .dataframe thead th {\n",
       "        text-align: right;\n",
       "    }\n",
       "</style>\n",
       "<table border=\"1\" class=\"dataframe\">\n",
       "  <thead>\n",
       "    <tr style=\"text-align: right;\">\n",
       "      <th></th>\n",
       "      <th>value</th>\n",
       "      <th>geo_id</th>\n",
       "      <th>geo_name</th>\n",
       "    </tr>\n",
       "    <tr>\n",
       "      <th>datetime_utc</th>\n",
       "      <th></th>\n",
       "      <th></th>\n",
       "      <th></th>\n",
       "    </tr>\n",
       "  </thead>\n",
       "  <tbody>\n",
       "    <tr>\n",
       "      <th>2022-01-31 23:00:00+00:00</th>\n",
       "      <td>208.40</td>\n",
       "      <td>3</td>\n",
       "      <td>España</td>\n",
       "    </tr>\n",
       "    <tr>\n",
       "      <th>2022-02-01 00:00:00+00:00</th>\n",
       "      <td>191.95</td>\n",
       "      <td>3</td>\n",
       "      <td>España</td>\n",
       "    </tr>\n",
       "    <tr>\n",
       "      <th>2022-02-01 01:00:00+00:00</th>\n",
       "      <td>191.65</td>\n",
       "      <td>3</td>\n",
       "      <td>España</td>\n",
       "    </tr>\n",
       "    <tr>\n",
       "      <th>2022-02-01 02:00:00+00:00</th>\n",
       "      <td>186.10</td>\n",
       "      <td>3</td>\n",
       "      <td>España</td>\n",
       "    </tr>\n",
       "    <tr>\n",
       "      <th>2022-02-01 03:00:00+00:00</th>\n",
       "      <td>169.97</td>\n",
       "      <td>3</td>\n",
       "      <td>España</td>\n",
       "    </tr>\n",
       "    <tr>\n",
       "      <th>...</th>\n",
       "      <td>...</td>\n",
       "      <td>...</td>\n",
       "      <td>...</td>\n",
       "    </tr>\n",
       "    <tr>\n",
       "      <th>2022-02-27 19:00:00+00:00</th>\n",
       "      <td>350.00</td>\n",
       "      <td>3</td>\n",
       "      <td>España</td>\n",
       "    </tr>\n",
       "    <tr>\n",
       "      <th>2022-02-27 20:00:00+00:00</th>\n",
       "      <td>350.00</td>\n",
       "      <td>3</td>\n",
       "      <td>España</td>\n",
       "    </tr>\n",
       "    <tr>\n",
       "      <th>2022-02-27 21:00:00+00:00</th>\n",
       "      <td>310.01</td>\n",
       "      <td>3</td>\n",
       "      <td>España</td>\n",
       "    </tr>\n",
       "    <tr>\n",
       "      <th>2022-02-27 22:00:00+00:00</th>\n",
       "      <td>280.00</td>\n",
       "      <td>3</td>\n",
       "      <td>España</td>\n",
       "    </tr>\n",
       "    <tr>\n",
       "      <th>2022-02-27 23:00:00+00:00</th>\n",
       "      <td>295.00</td>\n",
       "      <td>3</td>\n",
       "      <td>España</td>\n",
       "    </tr>\n",
       "  </tbody>\n",
       "</table>\n",
       "<p>649 rows × 3 columns</p>\n",
       "</div>"
      ],
      "text/plain": [
       "                            value  geo_id geo_name\n",
       "datetime_utc                                      \n",
       "2022-01-31 23:00:00+00:00  208.40       3   España\n",
       "2022-02-01 00:00:00+00:00  191.95       3   España\n",
       "2022-02-01 01:00:00+00:00  191.65       3   España\n",
       "2022-02-01 02:00:00+00:00  186.10       3   España\n",
       "2022-02-01 03:00:00+00:00  169.97       3   España\n",
       "...                           ...     ...      ...\n",
       "2022-02-27 19:00:00+00:00  350.00       3   España\n",
       "2022-02-27 20:00:00+00:00  350.00       3   España\n",
       "2022-02-27 21:00:00+00:00  310.01       3   España\n",
       "2022-02-27 22:00:00+00:00  280.00       3   España\n",
       "2022-02-27 23:00:00+00:00  295.00       3   España\n",
       "\n",
       "[649 rows x 3 columns]"
      ]
     },
     "execution_count": 20,
     "metadata": {},
     "output_type": "execute_result"
    }
   ],
   "source": [
    "df_dict['spot_price_2022-02-01']"
   ]
  },
  {
   "cell_type": "code",
   "execution_count": 21,
   "metadata": {},
   "outputs": [
    {
     "data": {
      "text/html": [
       "<div>\n",
       "<style scoped>\n",
       "    .dataframe tbody tr th:only-of-type {\n",
       "        vertical-align: middle;\n",
       "    }\n",
       "\n",
       "    .dataframe tbody tr th {\n",
       "        vertical-align: top;\n",
       "    }\n",
       "\n",
       "    .dataframe thead th {\n",
       "        text-align: right;\n",
       "    }\n",
       "</style>\n",
       "<table border=\"1\" class=\"dataframe\">\n",
       "  <thead>\n",
       "    <tr style=\"text-align: right;\">\n",
       "      <th></th>\n",
       "      <th>value</th>\n",
       "      <th>geo_id</th>\n",
       "      <th>geo_name</th>\n",
       "    </tr>\n",
       "    <tr>\n",
       "      <th>datetime_utc</th>\n",
       "      <th></th>\n",
       "      <th></th>\n",
       "      <th></th>\n",
       "    </tr>\n",
       "  </thead>\n",
       "  <tbody>\n",
       "    <tr>\n",
       "      <th>2021-12-31 23:00:00+00:00</th>\n",
       "      <td>145.86</td>\n",
       "      <td>3</td>\n",
       "      <td>España</td>\n",
       "    </tr>\n",
       "    <tr>\n",
       "      <th>2022-01-01 00:00:00+00:00</th>\n",
       "      <td>114.90</td>\n",
       "      <td>3</td>\n",
       "      <td>España</td>\n",
       "    </tr>\n",
       "    <tr>\n",
       "      <th>2022-01-01 01:00:00+00:00</th>\n",
       "      <td>113.87</td>\n",
       "      <td>3</td>\n",
       "      <td>España</td>\n",
       "    </tr>\n",
       "    <tr>\n",
       "      <th>2022-01-01 02:00:00+00:00</th>\n",
       "      <td>97.80</td>\n",
       "      <td>3</td>\n",
       "      <td>España</td>\n",
       "    </tr>\n",
       "    <tr>\n",
       "      <th>2022-01-01 03:00:00+00:00</th>\n",
       "      <td>97.80</td>\n",
       "      <td>3</td>\n",
       "      <td>España</td>\n",
       "    </tr>\n",
       "    <tr>\n",
       "      <th>...</th>\n",
       "      <td>...</td>\n",
       "      <td>...</td>\n",
       "      <td>...</td>\n",
       "    </tr>\n",
       "    <tr>\n",
       "      <th>2022-02-27 19:00:00+00:00</th>\n",
       "      <td>350.00</td>\n",
       "      <td>3</td>\n",
       "      <td>España</td>\n",
       "    </tr>\n",
       "    <tr>\n",
       "      <th>2022-02-27 20:00:00+00:00</th>\n",
       "      <td>350.00</td>\n",
       "      <td>3</td>\n",
       "      <td>España</td>\n",
       "    </tr>\n",
       "    <tr>\n",
       "      <th>2022-02-27 21:00:00+00:00</th>\n",
       "      <td>310.01</td>\n",
       "      <td>3</td>\n",
       "      <td>España</td>\n",
       "    </tr>\n",
       "    <tr>\n",
       "      <th>2022-02-27 22:00:00+00:00</th>\n",
       "      <td>280.00</td>\n",
       "      <td>3</td>\n",
       "      <td>España</td>\n",
       "    </tr>\n",
       "    <tr>\n",
       "      <th>2022-02-27 23:00:00+00:00</th>\n",
       "      <td>295.00</td>\n",
       "      <td>3</td>\n",
       "      <td>España</td>\n",
       "    </tr>\n",
       "  </tbody>\n",
       "</table>\n",
       "<p>1370 rows × 3 columns</p>\n",
       "</div>"
      ],
      "text/plain": [
       "                            value  geo_id geo_name\n",
       "datetime_utc                                      \n",
       "2021-12-31 23:00:00+00:00  145.86       3   España\n",
       "2022-01-01 00:00:00+00:00  114.90       3   España\n",
       "2022-01-01 01:00:00+00:00  113.87       3   España\n",
       "2022-01-01 02:00:00+00:00   97.80       3   España\n",
       "2022-01-01 03:00:00+00:00   97.80       3   España\n",
       "...                           ...     ...      ...\n",
       "2022-02-27 19:00:00+00:00  350.00       3   España\n",
       "2022-02-27 20:00:00+00:00  350.00       3   España\n",
       "2022-02-27 21:00:00+00:00  310.01       3   España\n",
       "2022-02-27 22:00:00+00:00  280.00       3   España\n",
       "2022-02-27 23:00:00+00:00  295.00       3   España\n",
       "\n",
       "[1370 rows x 3 columns]"
      ]
     },
     "execution_count": 21,
     "metadata": {},
     "output_type": "execute_result"
    }
   ],
   "source": [
    "pd.concat([df_dict['spot_price_2022-01-01'], df_dict['spot_price_2022-02-01']])"
   ]
  },
  {
   "cell_type": "code",
   "execution_count": 22,
   "metadata": {},
   "outputs": [
    {
     "data": {
      "text/plain": [
       "['spot_price_2023-03-01',\n",
       " 'spot_price_2022-05-01',\n",
       " 'spot_price_2022-09-01',\n",
       " 'spot_price_2022-07-01',\n",
       " 'spot_price_2023-01-01',\n",
       " 'spot_price_2022-03-01',\n",
       " 'spot_price_2022-11-01',\n",
       " 'spot_price_2023-05-01',\n",
       " 'spot_price_2023-07-01',\n",
       " 'spot_price_2022-01-01',\n",
       " 'spot_price_2022-04-01',\n",
       " 'spot_price_2022-08-01',\n",
       " 'spot_price_2023-02-01',\n",
       " 'spot_price_2022-06-01',\n",
       " 'spot_price_2023-04-01',\n",
       " 'spot_price_2022-02-01',\n",
       " 'spot_price_2022-10-01',\n",
       " 'spot_price_2022-12-01',\n",
       " 'spot_price_2023-06-01']"
      ]
     },
     "execution_count": 22,
     "metadata": {},
     "output_type": "execute_result"
    }
   ],
   "source": [
    "spot_prices = [x for x in df_dict if x not in ['demand_total','gen_ccgt','gen_coal','gen_coal','gen_hydro','gen_nuclear','gen_solar_pv','gen_solar_th','gen_total','gen_wind']]\n",
    "spot_prices"
   ]
  },
  {
   "cell_type": "code",
   "execution_count": 23,
   "metadata": {},
   "outputs": [
    {
     "data": {
      "text/html": [
       "<div>\n",
       "<style scoped>\n",
       "    .dataframe tbody tr th:only-of-type {\n",
       "        vertical-align: middle;\n",
       "    }\n",
       "\n",
       "    .dataframe tbody tr th {\n",
       "        vertical-align: top;\n",
       "    }\n",
       "\n",
       "    .dataframe thead th {\n",
       "        text-align: right;\n",
       "    }\n",
       "</style>\n",
       "<table border=\"1\" class=\"dataframe\">\n",
       "  <thead>\n",
       "    <tr style=\"text-align: right;\">\n",
       "      <th></th>\n",
       "      <th>value</th>\n",
       "      <th>geo_id</th>\n",
       "      <th>geo_name</th>\n",
       "    </tr>\n",
       "    <tr>\n",
       "      <th>datetime_utc</th>\n",
       "      <th></th>\n",
       "      <th></th>\n",
       "      <th></th>\n",
       "    </tr>\n",
       "  </thead>\n",
       "  <tbody>\n",
       "    <tr>\n",
       "      <th>2021-12-31 23:00:00+00:00</th>\n",
       "      <td>145.86</td>\n",
       "      <td>3</td>\n",
       "      <td>España</td>\n",
       "    </tr>\n",
       "    <tr>\n",
       "      <th>2022-01-01 00:00:00+00:00</th>\n",
       "      <td>114.90</td>\n",
       "      <td>3</td>\n",
       "      <td>España</td>\n",
       "    </tr>\n",
       "    <tr>\n",
       "      <th>2022-01-01 01:00:00+00:00</th>\n",
       "      <td>113.87</td>\n",
       "      <td>3</td>\n",
       "      <td>España</td>\n",
       "    </tr>\n",
       "    <tr>\n",
       "      <th>2022-01-01 02:00:00+00:00</th>\n",
       "      <td>97.80</td>\n",
       "      <td>3</td>\n",
       "      <td>España</td>\n",
       "    </tr>\n",
       "    <tr>\n",
       "      <th>2022-01-01 03:00:00+00:00</th>\n",
       "      <td>97.80</td>\n",
       "      <td>3</td>\n",
       "      <td>España</td>\n",
       "    </tr>\n",
       "    <tr>\n",
       "      <th>...</th>\n",
       "      <td>...</td>\n",
       "      <td>...</td>\n",
       "      <td>...</td>\n",
       "    </tr>\n",
       "    <tr>\n",
       "      <th>2023-07-30 18:00:00+00:00</th>\n",
       "      <td>98.48</td>\n",
       "      <td>3</td>\n",
       "      <td>España</td>\n",
       "    </tr>\n",
       "    <tr>\n",
       "      <th>2023-07-30 19:00:00+00:00</th>\n",
       "      <td>112.82</td>\n",
       "      <td>3</td>\n",
       "      <td>España</td>\n",
       "    </tr>\n",
       "    <tr>\n",
       "      <th>2023-07-30 20:00:00+00:00</th>\n",
       "      <td>113.93</td>\n",
       "      <td>3</td>\n",
       "      <td>España</td>\n",
       "    </tr>\n",
       "    <tr>\n",
       "      <th>2023-07-30 21:00:00+00:00</th>\n",
       "      <td>110.95</td>\n",
       "      <td>3</td>\n",
       "      <td>España</td>\n",
       "    </tr>\n",
       "    <tr>\n",
       "      <th>2023-07-30 22:00:00+00:00</th>\n",
       "      <td>99.03</td>\n",
       "      <td>3</td>\n",
       "      <td>España</td>\n",
       "    </tr>\n",
       "  </tbody>\n",
       "</table>\n",
       "<p>13410 rows × 3 columns</p>\n",
       "</div>"
      ],
      "text/plain": [
       "                            value  geo_id geo_name\n",
       "datetime_utc                                      \n",
       "2021-12-31 23:00:00+00:00  145.86       3   España\n",
       "2022-01-01 00:00:00+00:00  114.90       3   España\n",
       "2022-01-01 01:00:00+00:00  113.87       3   España\n",
       "2022-01-01 02:00:00+00:00   97.80       3   España\n",
       "2022-01-01 03:00:00+00:00   97.80       3   España\n",
       "...                           ...     ...      ...\n",
       "2023-07-30 18:00:00+00:00   98.48       3   España\n",
       "2023-07-30 19:00:00+00:00  112.82       3   España\n",
       "2023-07-30 20:00:00+00:00  113.93       3   España\n",
       "2023-07-30 21:00:00+00:00  110.95       3   España\n",
       "2023-07-30 22:00:00+00:00   99.03       3   España\n",
       "\n",
       "[13410 rows x 3 columns]"
      ]
     },
     "execution_count": 23,
     "metadata": {},
     "output_type": "execute_result"
    }
   ],
   "source": [
    "spot_prices_df = pd.DataFrame()\n",
    "for value in spot_prices:\n",
    "    spot_prices_df = pd.concat([spot_prices_df, df_dict[value]])\n",
    "\n",
    "spot_prices_df = spot_prices_df.sort_index()\n",
    "spot_prices_df"
   ]
  },
  {
   "cell_type": "code",
   "execution_count": 24,
   "metadata": {},
   "outputs": [],
   "source": [
    "df_dict['spot_prices_df'] = spot_prices_df"
   ]
  },
  {
   "cell_type": "code",
   "execution_count": 25,
   "metadata": {},
   "outputs": [],
   "source": [
    "df_dict['demand_total'] = df_dict['demand_total'].drop(columns=['month','year'])\n",
    "df_dict['gen_total'] = df_dict['gen_total'].drop(columns=['month','year'])"
   ]
  },
  {
   "cell_type": "code",
   "execution_count": 26,
   "metadata": {},
   "outputs": [
    {
     "data": {
      "text/html": [
       "<div>\n",
       "<style scoped>\n",
       "    .dataframe tbody tr th:only-of-type {\n",
       "        vertical-align: middle;\n",
       "    }\n",
       "\n",
       "    .dataframe tbody tr th {\n",
       "        vertical-align: top;\n",
       "    }\n",
       "\n",
       "    .dataframe thead th {\n",
       "        text-align: right;\n",
       "    }\n",
       "</style>\n",
       "<table border=\"1\" class=\"dataframe\">\n",
       "  <thead>\n",
       "    <tr style=\"text-align: right;\">\n",
       "      <th></th>\n",
       "      <th>datetime_utc</th>\n",
       "      <th>value_demand_total</th>\n",
       "      <th>value_gen_ccgt</th>\n",
       "      <th>value_gen_coal</th>\n",
       "      <th>value_gen_hydro</th>\n",
       "      <th>value_gen_nuclear</th>\n",
       "      <th>value_gen_solar_pv</th>\n",
       "      <th>value_gen_solar_th</th>\n",
       "      <th>value_gen_total</th>\n",
       "      <th>value_gen_wind</th>\n",
       "      <th>value</th>\n",
       "      <th>geo_id</th>\n",
       "      <th>geo_name</th>\n",
       "    </tr>\n",
       "  </thead>\n",
       "  <tbody>\n",
       "    <tr>\n",
       "      <th>0</th>\n",
       "      <td>2021-12-31 23:00:00+00:00</td>\n",
       "      <td>20955.3</td>\n",
       "      <td>NaN</td>\n",
       "      <td>900.5</td>\n",
       "      <td>2418.5</td>\n",
       "      <td>6087.5</td>\n",
       "      <td>77.3</td>\n",
       "      <td>10.0</td>\n",
       "      <td>19553.3</td>\n",
       "      <td>7061.7</td>\n",
       "      <td>145.86</td>\n",
       "      <td>3.0</td>\n",
       "      <td>España</td>\n",
       "    </tr>\n",
       "    <tr>\n",
       "      <th>1</th>\n",
       "      <td>2022-01-01 00:00:00+00:00</td>\n",
       "      <td>20165.8</td>\n",
       "      <td>NaN</td>\n",
       "      <td>852.5</td>\n",
       "      <td>2289.4</td>\n",
       "      <td>6089.4</td>\n",
       "      <td>5.2</td>\n",
       "      <td>10.0</td>\n",
       "      <td>19307.5</td>\n",
       "      <td>7075.1</td>\n",
       "      <td>114.90</td>\n",
       "      <td>3.0</td>\n",
       "      <td>España</td>\n",
       "    </tr>\n",
       "    <tr>\n",
       "      <th>2</th>\n",
       "      <td>2022-01-01 01:00:00+00:00</td>\n",
       "      <td>18812.4</td>\n",
       "      <td>NaN</td>\n",
       "      <td>851.5</td>\n",
       "      <td>2008.4</td>\n",
       "      <td>6088.5</td>\n",
       "      <td>5.2</td>\n",
       "      <td>10.0</td>\n",
       "      <td>18964.5</td>\n",
       "      <td>7038.7</td>\n",
       "      <td>113.87</td>\n",
       "      <td>3.0</td>\n",
       "      <td>España</td>\n",
       "    </tr>\n",
       "    <tr>\n",
       "      <th>3</th>\n",
       "      <td>2022-01-01 02:00:00+00:00</td>\n",
       "      <td>17646.4</td>\n",
       "      <td>NaN</td>\n",
       "      <td>851.5</td>\n",
       "      <td>1742.1</td>\n",
       "      <td>6087.5</td>\n",
       "      <td>5.2</td>\n",
       "      <td>10.0</td>\n",
       "      <td>18545.9</td>\n",
       "      <td>6959.8</td>\n",
       "      <td>97.80</td>\n",
       "      <td>3.0</td>\n",
       "      <td>España</td>\n",
       "    </tr>\n",
       "    <tr>\n",
       "      <th>4</th>\n",
       "      <td>2022-01-01 03:00:00+00:00</td>\n",
       "      <td>17018.1</td>\n",
       "      <td>NaN</td>\n",
       "      <td>851.5</td>\n",
       "      <td>1734.1</td>\n",
       "      <td>6088.5</td>\n",
       "      <td>5.2</td>\n",
       "      <td>10.0</td>\n",
       "      <td>18385.3</td>\n",
       "      <td>6794.9</td>\n",
       "      <td>97.80</td>\n",
       "      <td>3.0</td>\n",
       "      <td>España</td>\n",
       "    </tr>\n",
       "  </tbody>\n",
       "</table>\n",
       "</div>"
      ],
      "text/plain": [
       "               datetime_utc  value_demand_total  value_gen_ccgt  \\\n",
       "0 2021-12-31 23:00:00+00:00             20955.3             NaN   \n",
       "1 2022-01-01 00:00:00+00:00             20165.8             NaN   \n",
       "2 2022-01-01 01:00:00+00:00             18812.4             NaN   \n",
       "3 2022-01-01 02:00:00+00:00             17646.4             NaN   \n",
       "4 2022-01-01 03:00:00+00:00             17018.1             NaN   \n",
       "\n",
       "   value_gen_coal  value_gen_hydro  value_gen_nuclear  value_gen_solar_pv  \\\n",
       "0           900.5           2418.5             6087.5                77.3   \n",
       "1           852.5           2289.4             6089.4                 5.2   \n",
       "2           851.5           2008.4             6088.5                 5.2   \n",
       "3           851.5           1742.1             6087.5                 5.2   \n",
       "4           851.5           1734.1             6088.5                 5.2   \n",
       "\n",
       "   value_gen_solar_th  value_gen_total  value_gen_wind   value  geo_id  \\\n",
       "0                10.0          19553.3          7061.7  145.86     3.0   \n",
       "1                10.0          19307.5          7075.1  114.90     3.0   \n",
       "2                10.0          18964.5          7038.7  113.87     3.0   \n",
       "3                10.0          18545.9          6959.8   97.80     3.0   \n",
       "4                10.0          18385.3          6794.9   97.80     3.0   \n",
       "\n",
       "  geo_name  \n",
       "0   España  \n",
       "1   España  \n",
       "2   España  \n",
       "3   España  \n",
       "4   España  "
      ]
     },
     "execution_count": 26,
     "metadata": {},
     "output_type": "execute_result"
    }
   ],
   "source": [
    "df = pd.DataFrame(columns=['datetime_utc'])\n",
    "df['datetime_utc'] = pd.to_datetime(df['datetime_utc'])\n",
    "for value in ['demand_total','gen_ccgt','gen_coal','gen_hydro','gen_nuclear','gen_solar_pv','gen_solar_th','gen_total','gen_wind','spot_prices_df']:\n",
    "    df = pd.merge(df, df_dict[value], on='datetime_utc', how='outer')\n",
    "\n",
    "df.head()"
   ]
  },
  {
   "cell_type": "code",
   "execution_count": 27,
   "metadata": {},
   "outputs": [],
   "source": [
    "df = df.drop(columns=['geo_id','geo_name'])"
   ]
  },
  {
   "cell_type": "code",
   "execution_count": 28,
   "metadata": {},
   "outputs": [
    {
     "name": "stdout",
     "output_type": "stream",
     "text": [
      "correlation of different energy sources to price:\n"
     ]
    },
    {
     "data": {
      "text/plain": [
       "value_gen_solar_pv   -0.275942\n",
       "value_gen_solar_th   -0.268863\n",
       "value_gen_wind       -0.229660\n",
       "value_gen_total      -0.018269\n",
       "value_gen_hydro       0.078667\n",
       "value_gen_nuclear     0.111854\n",
       "value_gen_ccgt        0.191121\n",
       "value_gen_coal        0.217308\n",
       "value_demand_total    0.227541\n",
       "value                 1.000000\n",
       "Name: value, dtype: float64"
      ]
     },
     "execution_count": 28,
     "metadata": {},
     "output_type": "execute_result"
    }
   ],
   "source": [
    "print('correlation of different energy sources to price:')\n",
    "df.corr()['value'].sort_values()"
   ]
  },
  {
   "cell_type": "code",
   "execution_count": 29,
   "metadata": {},
   "outputs": [
    {
     "name": "stdout",
     "output_type": "stream",
     "text": [
      "solar and wind are negatively correlated with price so more of that reduces price. Ccgt and coal are positively correlated with       price so more of that increases price\n"
     ]
    }
   ],
   "source": [
    "print('solar and wind are negatively correlated with price so more of that reduces price. Ccgt and coal are positively correlated with \\\n",
    "      price so more of that increases price')"
   ]
  },
  {
   "cell_type": "code",
   "execution_count": 30,
   "metadata": {},
   "outputs": [
    {
     "data": {
      "text/plain": [
       "<AxesSubplot:>"
      ]
     },
     "execution_count": 30,
     "metadata": {},
     "output_type": "execute_result"
    },
    {
     "data": {
      "image/png": "[encoded data removed]",
      "text/plain": [
       "<Figure size 432x288 with 2 Axes>"
      ]
     },
     "metadata": {
      "needs_background": "light"
     },
     "output_type": "display_data"
    }
   ],
   "source": [
    "sns.heatmap(df.corr(), annot=True)"
   ]
  },
  {
   "cell_type": "code",
   "execution_count": 31,
   "metadata": {},
   "outputs": [],
   "source": [
    "df['month'] = df['datetime_utc'].dt.month\n",
    "df['year'] = df['datetime_utc'].dt.year\n",
    "df['day_of_week'] = df['datetime_utc'].dt.day_of_week"
   ]
  },
  {
   "cell_type": "code",
   "execution_count": 32,
   "metadata": {},
   "outputs": [
    {
     "data": {
      "text/html": [
       "<div>\n",
       "<style scoped>\n",
       "    .dataframe tbody tr th:only-of-type {\n",
       "        vertical-align: middle;\n",
       "    }\n",
       "\n",
       "    .dataframe tbody tr th {\n",
       "        vertical-align: top;\n",
       "    }\n",
       "\n",
       "    .dataframe thead th {\n",
       "        text-align: right;\n",
       "    }\n",
       "</style>\n",
       "<table border=\"1\" class=\"dataframe\">\n",
       "  <thead>\n",
       "    <tr style=\"text-align: right;\">\n",
       "      <th></th>\n",
       "      <th>datetime_utc</th>\n",
       "      <th>value_demand_total</th>\n",
       "      <th>value_gen_ccgt</th>\n",
       "      <th>value_gen_coal</th>\n",
       "      <th>value_gen_hydro</th>\n",
       "      <th>value_gen_nuclear</th>\n",
       "      <th>value_gen_solar_pv</th>\n",
       "      <th>value_gen_solar_th</th>\n",
       "      <th>value_gen_total</th>\n",
       "      <th>value_gen_wind</th>\n",
       "      <th>value</th>\n",
       "      <th>month</th>\n",
       "      <th>year</th>\n",
       "      <th>day_of_week</th>\n",
       "    </tr>\n",
       "  </thead>\n",
       "  <tbody>\n",
       "    <tr>\n",
       "      <th>0</th>\n",
       "      <td>2021-12-31 23:00:00+00:00</td>\n",
       "      <td>20955.3</td>\n",
       "      <td>NaN</td>\n",
       "      <td>900.5</td>\n",
       "      <td>2418.5</td>\n",
       "      <td>6087.5</td>\n",
       "      <td>77.3</td>\n",
       "      <td>10.0</td>\n",
       "      <td>19553.3</td>\n",
       "      <td>7061.7</td>\n",
       "      <td>145.86</td>\n",
       "      <td>12</td>\n",
       "      <td>2021</td>\n",
       "      <td>4</td>\n",
       "    </tr>\n",
       "    <tr>\n",
       "      <th>1</th>\n",
       "      <td>2022-01-01 00:00:00+00:00</td>\n",
       "      <td>20165.8</td>\n",
       "      <td>NaN</td>\n",
       "      <td>852.5</td>\n",
       "      <td>2289.4</td>\n",
       "      <td>6089.4</td>\n",
       "      <td>5.2</td>\n",
       "      <td>10.0</td>\n",
       "      <td>19307.5</td>\n",
       "      <td>7075.1</td>\n",
       "      <td>114.90</td>\n",
       "      <td>1</td>\n",
       "      <td>2022</td>\n",
       "      <td>5</td>\n",
       "    </tr>\n",
       "    <tr>\n",
       "      <th>2</th>\n",
       "      <td>2022-01-01 01:00:00+00:00</td>\n",
       "      <td>18812.4</td>\n",
       "      <td>NaN</td>\n",
       "      <td>851.5</td>\n",
       "      <td>2008.4</td>\n",
       "      <td>6088.5</td>\n",
       "      <td>5.2</td>\n",
       "      <td>10.0</td>\n",
       "      <td>18964.5</td>\n",
       "      <td>7038.7</td>\n",
       "      <td>113.87</td>\n",
       "      <td>1</td>\n",
       "      <td>2022</td>\n",
       "      <td>5</td>\n",
       "    </tr>\n",
       "    <tr>\n",
       "      <th>3</th>\n",
       "      <td>2022-01-01 02:00:00+00:00</td>\n",
       "      <td>17646.4</td>\n",
       "      <td>NaN</td>\n",
       "      <td>851.5</td>\n",
       "      <td>1742.1</td>\n",
       "      <td>6087.5</td>\n",
       "      <td>5.2</td>\n",
       "      <td>10.0</td>\n",
       "      <td>18545.9</td>\n",
       "      <td>6959.8</td>\n",
       "      <td>97.80</td>\n",
       "      <td>1</td>\n",
       "      <td>2022</td>\n",
       "      <td>5</td>\n",
       "    </tr>\n",
       "    <tr>\n",
       "      <th>4</th>\n",
       "      <td>2022-01-01 03:00:00+00:00</td>\n",
       "      <td>17018.1</td>\n",
       "      <td>NaN</td>\n",
       "      <td>851.5</td>\n",
       "      <td>1734.1</td>\n",
       "      <td>6088.5</td>\n",
       "      <td>5.2</td>\n",
       "      <td>10.0</td>\n",
       "      <td>18385.3</td>\n",
       "      <td>6794.9</td>\n",
       "      <td>97.80</td>\n",
       "      <td>1</td>\n",
       "      <td>2022</td>\n",
       "      <td>5</td>\n",
       "    </tr>\n",
       "  </tbody>\n",
       "</table>\n",
       "</div>"
      ],
      "text/plain": [
       "               datetime_utc  value_demand_total  value_gen_ccgt  \\\n",
       "0 2021-12-31 23:00:00+00:00             20955.3             NaN   \n",
       "1 2022-01-01 00:00:00+00:00             20165.8             NaN   \n",
       "2 2022-01-01 01:00:00+00:00             18812.4             NaN   \n",
       "3 2022-01-01 02:00:00+00:00             17646.4             NaN   \n",
       "4 2022-01-01 03:00:00+00:00             17018.1             NaN   \n",
       "\n",
       "   value_gen_coal  value_gen_hydro  value_gen_nuclear  value_gen_solar_pv  \\\n",
       "0           900.5           2418.5             6087.5                77.3   \n",
       "1           852.5           2289.4             6089.4                 5.2   \n",
       "2           851.5           2008.4             6088.5                 5.2   \n",
       "3           851.5           1742.1             6087.5                 5.2   \n",
       "4           851.5           1734.1             6088.5                 5.2   \n",
       "\n",
       "   value_gen_solar_th  value_gen_total  value_gen_wind   value  month  year  \\\n",
       "0                10.0          19553.3          7061.7  145.86     12  2021   \n",
       "1                10.0          19307.5          7075.1  114.90      1  2022   \n",
       "2                10.0          18964.5          7038.7  113.87      1  2022   \n",
       "3                10.0          18545.9          6959.8   97.80      1  2022   \n",
       "4                10.0          18385.3          6794.9   97.80      1  2022   \n",
       "\n",
       "   day_of_week  \n",
       "0            4  \n",
       "1            5  \n",
       "2            5  \n",
       "3            5  \n",
       "4            5  "
      ]
     },
     "execution_count": 32,
     "metadata": {},
     "output_type": "execute_result"
    }
   ],
   "source": [
    "df.head()"
   ]
  },
  {
   "cell_type": "code",
   "execution_count": 33,
   "metadata": {},
   "outputs": [
    {
     "data": {
      "text/plain": [
       "<AxesSubplot:xlabel='month'>"
      ]
     },
     "execution_count": 33,
     "metadata": {},
     "output_type": "execute_result"
    },
    {
     "data": {
      "image/png": "[encoded data removed]",
      "text/plain": [
       "<Figure size 432x288 with 1 Axes>"
      ]
     },
     "metadata": {
      "needs_background": "light"
     },
     "output_type": "display_data"
    }
   ],
   "source": [
    "df.groupby('month').mean()['value'].plot(kind='bar')"
   ]
  },
  {
   "cell_type": "code",
   "execution_count": 34,
   "metadata": {},
   "outputs": [
    {
     "data": {
      "text/plain": [
       "<AxesSubplot:xlabel='year'>"
      ]
     },
     "execution_count": 34,
     "metadata": {},
     "output_type": "execute_result"
    },
    {
     "data": {
      "image/png": "[encoded data removed]",
      "text/plain": [
       "<Figure size 432x288 with 1 Axes>"
      ]
     },
     "metadata": {
      "needs_background": "light"
     },
     "output_type": "display_data"
    }
   ],
   "source": [
    "df.groupby('year').mean()['value'].plot(kind='bar')"
   ]
  },
  {
   "cell_type": "code",
   "execution_count": 35,
   "metadata": {},
   "outputs": [
    {
     "data": {
      "text/plain": [
       "<AxesSubplot:xlabel='day_of_week'>"
      ]
     },
     "execution_count": 35,
     "metadata": {},
     "output_type": "execute_result"
    },
    {
     "data": {
      "image/png": "[encoded data removed]",
      "text/plain": [
       "<Figure size 432x288 with 1 Axes>"
      ]
     },
     "metadata": {
      "needs_background": "light"
     },
     "output_type": "display_data"
    }
   ],
   "source": [
    "df.groupby('day_of_week').mean()['value'].plot(kind='bar')"
   ]
  },
  {
   "cell_type": "code",
   "execution_count": 36,
   "metadata": {},
   "outputs": [],
   "source": [
    "df['hour'] = df['datetime_utc'].dt.hour"
   ]
  },
  {
   "cell_type": "code",
   "execution_count": 37,
   "metadata": {},
   "outputs": [
    {
     "data": {
      "text/plain": [
       "<AxesSubplot:xlabel='hour'>"
      ]
     },
     "execution_count": 37,
     "metadata": {},
     "output_type": "execute_result"
    },
    {
     "data": {
      "image/png": "[encoded data removed]",
      "text/plain": [
       "<Figure size 432x288 with 1 Axes>"
      ]
     },
     "metadata": {
      "needs_background": "light"
     },
     "output_type": "display_data"
    }
   ],
   "source": [
    "df.groupby('hour').mean()['value'].plot(kind='bar')"
   ]
  },
  {
   "cell_type": "code",
   "execution_count": 38,
   "metadata": {},
   "outputs": [],
   "source": [
    "df = df.drop(columns=['month','year','day_of_week','hour'])"
   ]
  },
  {
   "cell_type": "code",
   "execution_count": 39,
   "metadata": {},
   "outputs": [
    {
     "data": {
      "text/plain": [
       "datetime_utc             0\n",
       "value_demand_total       0\n",
       "value_gen_ccgt        2393\n",
       "value_gen_coal        5988\n",
       "value_gen_hydro          0\n",
       "value_gen_nuclear        0\n",
       "value_gen_solar_pv       0\n",
       "value_gen_solar_th    1007\n",
       "value_gen_total          0\n",
       "value_gen_wind           0\n",
       "value                 1158\n",
       "dtype: int64"
      ]
     },
     "execution_count": 39,
     "metadata": {},
     "output_type": "execute_result"
    }
   ],
   "source": [
    "df.isna().sum()"
   ]
  },
  {
   "cell_type": "code",
   "execution_count": 40,
   "metadata": {},
   "outputs": [
    {
     "data": {
      "text/plain": [
       "['value_gen_ccgt', 'value_gen_coal', 'value_gen_solar_th', 'value']"
      ]
     },
     "execution_count": 40,
     "metadata": {},
     "output_type": "execute_result"
    }
   ],
   "source": [
    "vars_with_na = [var for var in df.columns if df[var].isnull().sum() > 0]\n",
    "vars_with_na"
   ]
  },
  {
   "cell_type": "code",
   "execution_count": 41,
   "metadata": {},
   "outputs": [
    {
     "data": {
      "text/plain": [
       "value_gen_ccgt         24\n",
       "value_gen_coal          0\n",
       "value_gen_solar_th      0\n",
       "value                 744\n",
       "dtype: int64"
      ]
     },
     "execution_count": 41,
     "metadata": {},
     "output_type": "execute_result"
    }
   ],
   "source": [
    "for var in vars_with_na:\n",
    "    df[var] = df[var].interpolate(method='nearest')\n",
    "\n",
    "df[vars_with_na].isnull().sum()\n",
    "\n",
    "# technically should only fillna or interpolate after train-test split but whatever"
   ]
  },
  {
   "cell_type": "code",
   "execution_count": 42,
   "metadata": {},
   "outputs": [
    {
     "data": {
      "text/plain": [
       "value_gen_ccgt        0\n",
       "value_gen_coal        0\n",
       "value_gen_solar_th    0\n",
       "value                 0\n",
       "dtype: int64"
      ]
     },
     "execution_count": 42,
     "metadata": {},
     "output_type": "execute_result"
    }
   ],
   "source": [
    "for var in vars_with_na:\n",
    "    df[var] = df[var].fillna(0)\n",
    "\n",
    "df[vars_with_na].isnull().sum()"
   ]
  },
  {
   "cell_type": "code",
   "execution_count": 43,
   "metadata": {},
   "outputs": [],
   "source": [
    "df['month'] = df['datetime_utc'].dt.month\n",
    "df['year'] = df['datetime_utc'].dt.year\n",
    "df['day_of_week'] = df['datetime_utc'].dt.day_of_week\n",
    "df['hour'] = df['datetime_utc'].dt.hour\n",
    "\n",
    "# come back to do the rolling avg"
   ]
  },
  {
   "cell_type": "code",
   "execution_count": 44,
   "metadata": {},
   "outputs": [],
   "source": [
    "df['value_gen_ccgt_coal'] = df['value_gen_ccgt'] + df['value_gen_coal']\n",
    "df['value_gen_wind_solar_pv_solar_th'] = df['value_gen_wind'] + df['value_gen_solar_pv'] + df['value_gen_solar_th']"
   ]
  },
  {
   "cell_type": "code",
   "execution_count": 45,
   "metadata": {},
   "outputs": [
    {
     "data": {
      "text/plain": [
       "year                               -0.575020\n",
       "value_gen_wind_solar_pv_solar_th   -0.378223\n",
       "value_gen_solar_pv                 -0.276890\n",
       "value_gen_solar_th                 -0.259063\n",
       "month                              -0.243185\n",
       "value_gen_wind                     -0.185220\n",
       "day_of_week                        -0.104409\n",
       "value_gen_total                    -0.013580\n",
       "value_gen_nuclear                   0.053547\n",
       "hour                                0.096706\n",
       "value_gen_hydro                     0.114904\n",
       "value_demand_total                  0.192914\n",
       "value_gen_ccgt                      0.315925\n",
       "value_gen_ccgt_coal                 0.354086\n",
       "value_gen_coal                      0.523301\n",
       "value                               1.000000\n",
       "Name: value, dtype: float64"
      ]
     },
     "execution_count": 45,
     "metadata": {},
     "output_type": "execute_result"
    }
   ],
   "source": [
    "df.corr()['value'].sort_values()"
   ]
  },
  {
   "cell_type": "code",
   "execution_count": 46,
   "metadata": {},
   "outputs": [],
   "source": [
    "from sklearn.model_selection import train_test_split\n",
    "from sklearn.linear_model import LinearRegression, Lasso\n",
    "from sklearn.metrics import mean_absolute_error, mean_squared_error, r2_score\n",
    "from sklearn.ensemble import RandomForestRegressor\n",
    "from sklearn.model_selection import GridSearchCV"
   ]
  },
  {
   "cell_type": "code",
   "execution_count": 47,
   "metadata": {},
   "outputs": [],
   "source": [
    "X = df.drop(columns=['value','datetime_utc'])\n",
    "y = df['value']"
   ]
  },
  {
   "cell_type": "code",
   "execution_count": 48,
   "metadata": {},
   "outputs": [],
   "source": [
    "X_train, X_test, y_train, y_test = train_test_split(X, y, test_size=0.20, random_state=1234)"
   ]
  },
  {
   "cell_type": "code",
   "execution_count": 49,
   "metadata": {},
   "outputs": [],
   "source": [
    "lr = LinearRegression()"
   ]
  },
  {
   "cell_type": "code",
   "execution_count": 50,
   "metadata": {},
   "outputs": [
    {
     "name": "stdout",
     "output_type": "stream",
     "text": [
      "train mse: 1491.063405378731\n",
      "train rmse: 38.61429017059269\n",
      "train r2: 0.7405787627794291\n",
      "\n",
      "test mse: 1691.7628796665754\n",
      "test rmse: 41.13104520513156\n",
      "test r2: 0.720633264031753\n",
      "\n",
      "Average price:  131\n"
     ]
    }
   ],
   "source": [
    "lr.fit(X_train, y_train)\n",
    "\n",
    "pred = lr.predict(X_train)\n",
    "\n",
    "# determine mse, rmse and r2\n",
    "print('train mse: {}'.format(\n",
    "    mean_squared_error(y_train, pred)))\n",
    "print('train rmse: {}'.format(\n",
    "    mean_squared_error(y_train, pred, squared=False)))\n",
    "print('train r2: {}'.format(\n",
    "    r2_score(y_train, pred)))\n",
    "print()\n",
    "\n",
    "# make predictions for test set\n",
    "pred = lr.predict(X_test)\n",
    "\n",
    "# determine mse, rmse and r2\n",
    "print('test mse: {}'.format(\n",
    "    mean_squared_error(y_test, pred)))\n",
    "print('test rmse: {}'.format(\n",
    "    mean_squared_error(y_test, pred, squared=False)))\n",
    "print('test r2: {}'.format(\n",
    "    r2_score(y_test, pred)))\n",
    "print()\n",
    "\n",
    "print('Average price: ', int(y_train.mean()))"
   ]
  },
  {
   "cell_type": "code",
   "execution_count": 51,
   "metadata": {},
   "outputs": [],
   "source": [
    "lasso = Lasso(random_state=1234, max_iter=10000)"
   ]
  },
  {
   "cell_type": "code",
   "execution_count": 52,
   "metadata": {},
   "outputs": [],
   "source": [
    "param_grid = {'alpha':[0.0001,0.001,0.01,0.1]}"
   ]
  },
  {
   "cell_type": "code",
   "execution_count": 53,
   "metadata": {},
   "outputs": [],
   "source": [
    "grid = GridSearchCV(lasso,param_grid)"
   ]
  },
  {
   "cell_type": "code",
   "execution_count": 54,
   "metadata": {},
   "outputs": [
    {
     "name": "stderr",
     "output_type": "stream",
     "text": [
      "/Users/youssefawad/opt/anaconda3/lib/python3.9/site-packages/sklearn/linear_model/_coordinate_descent.py:647: ConvergenceWarning: Objective did not converge. You might want to increase the number of iterations, check the scale of the features or consider increasing regularisation. Duality gap: 2.137e+06, tolerance: 5.372e+03\n",
      "  model = cd_fast.enet_coordinate_descent(\n",
      "/Users/youssefawad/opt/anaconda3/lib/python3.9/site-packages/sklearn/linear_model/_coordinate_descent.py:647: ConvergenceWarning: Objective did not converge. You might want to increase the number of iterations, check the scale of the features or consider increasing regularisation. Duality gap: 2.121e+06, tolerance: 5.332e+03\n",
      "  model = cd_fast.enet_coordinate_descent(\n",
      "/Users/youssefawad/opt/anaconda3/lib/python3.9/site-packages/sklearn/linear_model/_coordinate_descent.py:647: ConvergenceWarning: Objective did not converge. You might want to increase the number of iterations, check the scale of the features or consider increasing regularisation. Duality gap: 2.073e+06, tolerance: 5.319e+03\n",
      "  model = cd_fast.enet_coordinate_descent(\n",
      "/Users/youssefawad/opt/anaconda3/lib/python3.9/site-packages/sklearn/linear_model/_coordinate_descent.py:647: ConvergenceWarning: Objective did not converge. You might want to increase the number of iterations, check the scale of the features or consider increasing regularisation. Duality gap: 2.161e+06, tolerance: 5.459e+03\n",
      "  model = cd_fast.enet_coordinate_descent(\n",
      "/Users/youssefawad/opt/anaconda3/lib/python3.9/site-packages/sklearn/linear_model/_coordinate_descent.py:647: ConvergenceWarning: Objective did not converge. You might want to increase the number of iterations, check the scale of the features or consider increasing regularisation. Duality gap: 2.179e+06, tolerance: 5.426e+03\n",
      "  model = cd_fast.enet_coordinate_descent(\n",
      "/Users/youssefawad/opt/anaconda3/lib/python3.9/site-packages/sklearn/linear_model/_coordinate_descent.py:647: ConvergenceWarning: Objective did not converge. You might want to increase the number of iterations, check the scale of the features or consider increasing regularisation. Duality gap: 2.138e+06, tolerance: 5.372e+03\n",
      "  model = cd_fast.enet_coordinate_descent(\n",
      "/Users/youssefawad/opt/anaconda3/lib/python3.9/site-packages/sklearn/linear_model/_coordinate_descent.py:647: ConvergenceWarning: Objective did not converge. You might want to increase the number of iterations, check the scale of the features or consider increasing regularisation. Duality gap: 2.122e+06, tolerance: 5.332e+03\n",
      "  model = cd_fast.enet_coordinate_descent(\n",
      "/Users/youssefawad/opt/anaconda3/lib/python3.9/site-packages/sklearn/linear_model/_coordinate_descent.py:647: ConvergenceWarning: Objective did not converge. You might want to increase the number of iterations, check the scale of the features or consider increasing regularisation. Duality gap: 2.073e+06, tolerance: 5.319e+03\n",
      "  model = cd_fast.enet_coordinate_descent(\n",
      "/Users/youssefawad/opt/anaconda3/lib/python3.9/site-packages/sklearn/linear_model/_coordinate_descent.py:647: ConvergenceWarning: Objective did not converge. You might want to increase the number of iterations, check the scale of the features or consider increasing regularisation. Duality gap: 2.161e+06, tolerance: 5.459e+03\n",
      "  model = cd_fast.enet_coordinate_descent(\n",
      "/Users/youssefawad/opt/anaconda3/lib/python3.9/site-packages/sklearn/linear_model/_coordinate_descent.py:647: ConvergenceWarning: Objective did not converge. You might want to increase the number of iterations, check the scale of the features or consider increasing regularisation. Duality gap: 2.180e+06, tolerance: 5.426e+03\n",
      "  model = cd_fast.enet_coordinate_descent(\n",
      "/Users/youssefawad/opt/anaconda3/lib/python3.9/site-packages/sklearn/linear_model/_coordinate_descent.py:647: ConvergenceWarning: Objective did not converge. You might want to increase the number of iterations, check the scale of the features or consider increasing regularisation. Duality gap: 2.142e+06, tolerance: 5.372e+03\n",
      "  model = cd_fast.enet_coordinate_descent(\n",
      "/Users/youssefawad/opt/anaconda3/lib/python3.9/site-packages/sklearn/linear_model/_coordinate_descent.py:647: ConvergenceWarning: Objective did not converge. You might want to increase the number of iterations, check the scale of the features or consider increasing regularisation. Duality gap: 2.126e+06, tolerance: 5.332e+03\n",
      "  model = cd_fast.enet_coordinate_descent(\n",
      "/Users/youssefawad/opt/anaconda3/lib/python3.9/site-packages/sklearn/linear_model/_coordinate_descent.py:647: ConvergenceWarning: Objective did not converge. You might want to increase the number of iterations, check the scale of the features or consider increasing regularisation. Duality gap: 2.077e+06, tolerance: 5.319e+03\n",
      "  model = cd_fast.enet_coordinate_descent(\n",
      "/Users/youssefawad/opt/anaconda3/lib/python3.9/site-packages/sklearn/linear_model/_coordinate_descent.py:647: ConvergenceWarning: Objective did not converge. You might want to increase the number of iterations, check the scale of the features or consider increasing regularisation. Duality gap: 2.165e+06, tolerance: 5.459e+03\n",
      "  model = cd_fast.enet_coordinate_descent(\n",
      "/Users/youssefawad/opt/anaconda3/lib/python3.9/site-packages/sklearn/linear_model/_coordinate_descent.py:647: ConvergenceWarning: Objective did not converge. You might want to increase the number of iterations, check the scale of the features or consider increasing regularisation. Duality gap: 2.184e+06, tolerance: 5.426e+03\n",
      "  model = cd_fast.enet_coordinate_descent(\n",
      "/Users/youssefawad/opt/anaconda3/lib/python3.9/site-packages/sklearn/linear_model/_coordinate_descent.py:647: ConvergenceWarning: Objective did not converge. You might want to increase the number of iterations, check the scale of the features or consider increasing regularisation. Duality gap: 2.184e+06, tolerance: 5.372e+03\n",
      "  model = cd_fast.enet_coordinate_descent(\n",
      "/Users/youssefawad/opt/anaconda3/lib/python3.9/site-packages/sklearn/linear_model/_coordinate_descent.py:647: ConvergenceWarning: Objective did not converge. You might want to increase the number of iterations, check the scale of the features or consider increasing regularisation. Duality gap: 2.168e+06, tolerance: 5.332e+03\n",
      "  model = cd_fast.enet_coordinate_descent(\n",
      "/Users/youssefawad/opt/anaconda3/lib/python3.9/site-packages/sklearn/linear_model/_coordinate_descent.py:647: ConvergenceWarning: Objective did not converge. You might want to increase the number of iterations, check the scale of the features or consider increasing regularisation. Duality gap: 2.119e+06, tolerance: 5.319e+03\n",
      "  model = cd_fast.enet_coordinate_descent(\n",
      "/Users/youssefawad/opt/anaconda3/lib/python3.9/site-packages/sklearn/linear_model/_coordinate_descent.py:647: ConvergenceWarning: Objective did not converge. You might want to increase the number of iterations, check the scale of the features or consider increasing regularisation. Duality gap: 2.207e+06, tolerance: 5.459e+03\n",
      "  model = cd_fast.enet_coordinate_descent(\n",
      "/Users/youssefawad/opt/anaconda3/lib/python3.9/site-packages/sklearn/linear_model/_coordinate_descent.py:647: ConvergenceWarning: Objective did not converge. You might want to increase the number of iterations, check the scale of the features or consider increasing regularisation. Duality gap: 2.225e+06, tolerance: 5.426e+03\n",
      "  model = cd_fast.enet_coordinate_descent(\n",
      "/Users/youssefawad/opt/anaconda3/lib/python3.9/site-packages/sklearn/linear_model/_coordinate_descent.py:647: ConvergenceWarning: Objective did not converge. You might want to increase the number of iterations, check the scale of the features or consider increasing regularisation. Duality gap: 2.674e+06, tolerance: 6.727e+03\n",
      "  model = cd_fast.enet_coordinate_descent(\n"
     ]
    },
    {
     "data": {
      "text/plain": [
       "GridSearchCV(estimator=Lasso(max_iter=10000, random_state=1234),\n",
       "             param_grid={'alpha': [0.0001, 0.001, 0.01, 0.1]})"
      ]
     },
     "execution_count": 54,
     "metadata": {},
     "output_type": "execute_result"
    }
   ],
   "source": [
    "grid.fit(X_train,y_train)"
   ]
  },
  {
   "cell_type": "code",
   "execution_count": 55,
   "metadata": {},
   "outputs": [
    {
     "name": "stdout",
     "output_type": "stream",
     "text": [
      "train mse: 1491.0557282210143\n",
      "train rmse: 38.614190762218676\n",
      "train r2: 0.740580098482355\n",
      "\n",
      "test mse: 1691.8666207717247\n",
      "test rmse: 41.13230629045404\n",
      "test r2: 0.7206161328993232\n",
      "\n",
      "Average price:  131\n"
     ]
    }
   ],
   "source": [
    "pred = grid.predict(X_train)\n",
    "\n",
    "# determine mse, rmse and r2\n",
    "print('train mse: {}'.format(\n",
    "    mean_squared_error(y_train, pred)))\n",
    "print('train rmse: {}'.format(\n",
    "    mean_squared_error(y_train, pred, squared=False)))\n",
    "print('train r2: {}'.format(\n",
    "    r2_score(y_train, pred)))\n",
    "print()\n",
    "\n",
    "# make predictions for test set\n",
    "pred = grid.predict(X_test)\n",
    "\n",
    "# determine mse, rmse and r2\n",
    "print('test mse: {}'.format(\n",
    "    mean_squared_error(y_test, pred)))\n",
    "print('test rmse: {}'.format(\n",
    "    mean_squared_error(y_test, pred, squared=False)))\n",
    "print('test r2: {}'.format(\n",
    "    r2_score(y_test, pred)))\n",
    "print()\n",
    "\n",
    "print('Average price: ', int(y_train.mean()))"
   ]
  },
  {
   "cell_type": "code",
   "execution_count": 56,
   "metadata": {},
   "outputs": [],
   "source": [
    "rfr = RandomForestRegressor(random_state=1234)"
   ]
  },
  {
   "cell_type": "code",
   "execution_count": 57,
   "metadata": {},
   "outputs": [],
   "source": [
    "param_grid = {'n_estimators':[50,100,150], 'max_depth':[2,3,4], 'criterion':['squared_error','friedman_mse']}"
   ]
  },
  {
   "cell_type": "code",
   "execution_count": 58,
   "metadata": {},
   "outputs": [],
   "source": [
    "grid = GridSearchCV(rfr,param_grid)"
   ]
  },
  {
   "cell_type": "code",
   "execution_count": 59,
   "metadata": {},
   "outputs": [
    {
     "data": {
      "text/plain": [
       "GridSearchCV(estimator=RandomForestRegressor(random_state=1234),\n",
       "             param_grid={'criterion': ['squared_error', 'friedman_mse'],\n",
       "                         'max_depth': [2, 3, 4],\n",
       "                         'n_estimators': [50, 100, 150]})"
      ]
     },
     "execution_count": 59,
     "metadata": {},
     "output_type": "execute_result"
    }
   ],
   "source": [
    "grid.fit(X_train,y_train)"
   ]
  },
  {
   "cell_type": "code",
   "execution_count": 60,
   "metadata": {},
   "outputs": [
    {
     "name": "stdout",
     "output_type": "stream",
     "text": [
      "train mse: 1523.3376231258296\n",
      "train rmse: 39.02995802106159\n",
      "train r2: 0.7349635639434333\n",
      "\n",
      "test mse: 1567.0973086407066\n",
      "test rmse: 39.58657990583055\n",
      "test r2: 0.7412197268769354\n",
      "\n",
      "Average price:  131\n"
     ]
    }
   ],
   "source": [
    "pred = grid.predict(X_train)\n",
    "\n",
    "# determine mse, rmse and r2\n",
    "print('train mse: {}'.format(\n",
    "    mean_squared_error(y_train, pred)))\n",
    "print('train rmse: {}'.format(\n",
    "    mean_squared_error(y_train, pred, squared=False)))\n",
    "print('train r2: {}'.format(\n",
    "    r2_score(y_train, pred)))\n",
    "print()\n",
    "\n",
    "# make predictions for test set\n",
    "pred = grid.predict(X_test)\n",
    "\n",
    "# determine mse, rmse and r2\n",
    "print('test mse: {}'.format(\n",
    "    mean_squared_error(y_test, pred)))\n",
    "print('test rmse: {}'.format(\n",
    "    mean_squared_error(y_test, pred, squared=False)))\n",
    "print('test r2: {}'.format(\n",
    "    r2_score(y_test, pred)))\n",
    "print()\n",
    "\n",
    "print('Average price: ', int(y_train.mean()))"
   ]
  },
  {
   "cell_type": "markdown",
   "metadata": {},
   "source": [
    "try to look for outliers per feature; see if standardization needed to reduce variance b/w features or normalization for skewed features\n"
   ]
  }
 ],
 "metadata": {
  "kernelspec": {
   "display_name": "base",
   "language": "python",
   "name": "python3"
  },
  "language_info": {
   "codemirror_mode": {
    "name": "ipython",
    "version": 3
   },
   "file_extension": ".py",
   "mimetype": "text/x-python",
   "name": "python",
   "nbconvert_exporter": "python",
   "pygments_lexer": "ipython3",
   "version": "3.9.12"
  },
  "orig_nbformat": 4,
  "vscode": {
   "interpreter": {
    "hash": "8352892955a1883ff38701911ca7919363d181de39be1692721d04bda3d06f96"
   }
  }
 },
 "nbformat": 4,
 "nbformat_minor": 2
}
